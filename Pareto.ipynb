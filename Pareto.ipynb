{
  "nbformat": 4,
  "nbformat_minor": 0,
  "metadata": {
    "colab": {
      "name": "Pareto.ipynb",
      "provenance": [],
      "authorship_tag": "ABX9TyNqOu9G6vzW65zjf9XGb/Rt",
      "include_colab_link": true
    },
    "kernelspec": {
      "display_name": "Python 3",
      "name": "python3"
    },
    "language_info": {
      "name": "python"
    }
  },
  "cells": [
    {
      "cell_type": "markdown",
      "metadata": {
        "id": "view-in-github",
        "colab_type": "text"
      },
      "source": [
        "<a href=\"https://colab.research.google.com/github/LaisST/Tabela_Analise_Pareto/blob/main/Pareto.ipynb\" target=\"_parent\"><img src=\"https://colab.research.google.com/assets/colab-badge.svg\" alt=\"Open In Colab\"/></a>"
      ]
    },
    {
      "cell_type": "code",
      "metadata": {
        "colab": {
          "resources": {
            "http://localhost:8080/nbextensions/google.colab/files.js": {
              "data": "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",
              "ok": true,
              "headers": [
                [
                  "content-type",
                  "application/javascript"
                ]
              ],
              "status": 200,
              "status_text": ""
            }
          },
          "base_uri": "https://localhost:8080/",
          "height": 394
        },
        "id": "177wkXXBTK-5",
        "outputId": "08993e2e-b35a-44bd-d235-6729ba7d31a0"
      },
      "source": [
        "#Esse código foi desenvolvido como exercicio de sala de aula na diciplina Estatística Aplicada.\n",
        "\"\"\"Elabore um código na linguagem de sua preferência que receba como entrada os dados\n",
        "(variável nominal) de um arquivo TXT ou CSV e apresente como saída uma tabela\n",
        "organizada na forma propícia para Análise de Pareto, conforme visto em sala\"\"\"\n",
        "\n",
        "#Solução\n",
        "\"\"\"Para solucionar o problema proposto em sala de aula, utilizei a linguagem Python para\n",
        "  desenvolver um programa simples que lê os dados nominais (A, B, C, D, E, F e G) em um\n",
        "  arquivo .txt, contabiliza e ordena os dados com o objetivo de mostrar quais defeitos ocorrem\n",
        "  com mais frequência. \"\"\"\n",
        "\n",
        "  #OBS: Não utilizei nenhuma biblioteca para manipulação dos dados.\n",
        "\n",
        "from google.colab import files #Fazer o upload dos arquivos txt\n",
        "uploaded = files.upload()\n",
        "\n",
        "#Declaração das variaveis que irão armazenar a quantidade de ocorrências.\n",
        "a = 0\n",
        "b = 0\n",
        "c = 0\n",
        "d = 0\n",
        "e = 0\n",
        "f = 0\n",
        "g = 0\n",
        "acumulo = 0\n",
        "# Solicitação do nome do arquivo onde estão as variaveis qualitativas nominais para análise.\n",
        "\n",
        "arquivo = input(\"Qual arquivo deseja abrir para fazer a análise? \\n\")\n",
        "defeitos = open(arquivo, \"rt\")\n",
        "        \n",
        "\n",
        "#Contagem dos dados qualitativos nominais armazenados no arquivo .txt.\n",
        "for x in defeitos:\n",
        "    if x == 'A\\n':\n",
        "        a += 1 \n",
        "    elif x == 'B\\n':\n",
        "        b += 1 \n",
        "    elif x == 'C\\n':\n",
        "        c += 1\n",
        "    elif x == 'D\\n':\n",
        "        d += 1\n",
        "    elif x == 'E\\n':\n",
        "        e += 1\n",
        "    elif x == 'F\\n':\n",
        "        f += 1\n",
        "    elif x == 'G\\n':\n",
        "        g += 1\n",
        "        \n",
        "#Calculo total de ocorrências   \n",
        "totalfr = a + b + c + d + e + f + g\n",
        "\n",
        "#Dicionário onde a Key é o tipo de defeito e o value é a quantidade de ocorrências para cada defeito.\n",
        "Dic = { \"A - Defeito na cobertura plástica\": a, \n",
        "        \"B - Defeito no teclado\": b, \n",
        "        \"C - Defeito na fonte de energia\": c, \n",
        "        \"D - Soldas soltas\": d, \n",
        "        \"E - Defeito na placa da unidade de processamento\": e, \n",
        "        \"F - Defeito no visor\": f,\n",
        "        \"G - Outros\": g\n",
        "    \n",
        "}\n",
        "#Inicio ta tabela contendo quatro colunas: Defeito, quantidade, frequencia em % e o total acumulado em %.\n",
        "print(\"\\033[1;36m ___________________________________________________________________________________________\\033[m \")\n",
        "print(\"\\033[1;36m|                                                                                           |\\033[m\")\n",
        "print(\"\\033[1;36m|                 Relatório de Defeitos da Fabrica de Calculadoras                          |\\033[m\")\n",
        "print(\"\\033[1;36m|___________________________________________________________________________________________|\\033[m\")\n",
        "print(\"\\033[1;36m|                  Defeito                       | Quantidade |    Fr%    |  Acumulado(fr%) |\\033[m\")\n",
        "\n",
        "#Loop para ler cada item do dicionário em sua devida posição. Calculo da frequencia em % e soma do Fr% \n",
        "#para calculo do acumulado em %.\n",
        "\n",
        "analise = {}\n",
        "c = 0 #Variavel contador para o loop.\n",
        "while c < len(Dic):\n",
        "    for i in sorted(Dic, key = Dic.get, reverse=True):\n",
        "        fr = (Dic[i]/totalfr*100) #Calculo de frequencia em %.\n",
        "        if c == 0:\n",
        "            acumulo = fr\n",
        "            print(\"\\033[1;36m|\\033[m{:48}{}|{} {:6}     {}|{}  {:5.2f}%   {}|{}    {:6.2f}%      {}|{}\".format(i,'\\033[1;36m', '\\033[m', Dic[i],'\\033[1;36m', '\\033[m', fr,'\\033[1;36m', '\\033[m', acumulo, '\\033[1;36m', '\\033[m'))\n",
        "\n",
        "        else: \n",
        "            acumulo = acumulo +fr\n",
        "            print(\"\\033[1;36m|\\033[m{:48}{}|{} {:6}     {}|{}  {:5.2f}%   {}|{}    {:6.2f}%      {}|{}\".format(i,'\\033[1;36m', '\\033[m', Dic[i],'\\033[1;36m', '\\033[m', fr,'\\033[1;36m', '\\033[m', acumulo, '\\033[1;36m', '\\033[m'))\n",
        "\n",
        "        c +=1\n",
        "\n",
        "print(\"\\033[1;36m|                                                |            |           |                 |\\033[m\")\n",
        "print(\"\\033[1;36m|\\033[mTotal                                           \\033[1;36m|\\033[m {:6}     \\033[1;36m|\\033[m  {:5.2f}%  \\033[1;36m|\\033[m                 \\033[1;36m|\\033[m\".format(totalfr, acumulo))\n",
        "print(\"\\033[1;36m|___________________________________________________________________________________________|\\033[m\")\n",
        "print(\"\\033[1;36m|                                                                                           |\\033[m\")\n",
        "print(\"\\033[1;36m|                            Fonte: Exercicio de sala                                       |\\033[m\")\n",
        "print(\"\\033[1;36m|___________________________________________________________________________________________\\033[1;36m|\\033[m\")\n",
        "#Fim da tabela.\n"
      ],
      "execution_count": 8,
      "outputs": [
        {
          "output_type": "display_data",
          "data": {
            "text/html": [
              "\n",
              "     <input type=\"file\" id=\"files-339fcf14-2545-48c7-afae-fdd68b8a26c1\" name=\"files[]\" multiple disabled\n",
              "        style=\"border:none\" />\n",
              "     <output id=\"result-339fcf14-2545-48c7-afae-fdd68b8a26c1\">\n",
              "      Upload widget is only available when the cell has been executed in the\n",
              "      current browser session. Please rerun this cell to enable.\n",
              "      </output>\n",
              "      <script src=\"/nbextensions/google.colab/files.js\"></script> "
            ],
            "text/plain": [
              "<IPython.core.display.HTML object>"
            ]
          },
          "metadata": {}
        },
        {
          "output_type": "stream",
          "name": "stdout",
          "text": [
            "Qual arquivo deseja abrir para fazer a análise? \n",
            "Teste.txt\n",
            "\u001b[1;36m ___________________________________________________________________________________________\u001b[m \n",
            "\u001b[1;36m|                                                                                           |\u001b[m\n",
            "\u001b[1;36m|                 Relatório de Defeitos da Fabrica de Calculadoras                          |\u001b[m\n",
            "\u001b[1;36m|___________________________________________________________________________________________|\u001b[m\n",
            "\u001b[1;36m|                  Defeito                       | Quantidade |    Fr%    |  Acumulado(fr%) |\u001b[m\n",
            "\u001b[1;36m|\u001b[mD - Soldas soltas                               \u001b[1;36m|\u001b[m     66     \u001b[1;36m|\u001b[m  38.82%   \u001b[1;36m|\u001b[m     38.82%      \u001b[1;36m|\u001b[m\n",
            "\u001b[1;36m|\u001b[mC - Defeito na fonte de energia                 \u001b[1;36m|\u001b[m     46     \u001b[1;36m|\u001b[m  27.06%   \u001b[1;36m|\u001b[m     65.88%      \u001b[1;36m|\u001b[m\n",
            "\u001b[1;36m|\u001b[mE - Defeito na placa da unidade de processamento\u001b[1;36m|\u001b[m     22     \u001b[1;36m|\u001b[m  12.94%   \u001b[1;36m|\u001b[m     78.82%      \u001b[1;36m|\u001b[m\n",
            "\u001b[1;36m|\u001b[mB - Defeito no teclado                          \u001b[1;36m|\u001b[m     17     \u001b[1;36m|\u001b[m  10.00%   \u001b[1;36m|\u001b[m     88.82%      \u001b[1;36m|\u001b[m\n",
            "\u001b[1;36m|\u001b[mA - Defeito na cobertura plástica               \u001b[1;36m|\u001b[m     10     \u001b[1;36m|\u001b[m   5.88%   \u001b[1;36m|\u001b[m     94.71%      \u001b[1;36m|\u001b[m\n",
            "\u001b[1;36m|\u001b[mG - Outros                                      \u001b[1;36m|\u001b[m      6     \u001b[1;36m|\u001b[m   3.53%   \u001b[1;36m|\u001b[m     98.24%      \u001b[1;36m|\u001b[m\n",
            "\u001b[1;36m|\u001b[mF - Defeito no visor                            \u001b[1;36m|\u001b[m      3     \u001b[1;36m|\u001b[m   1.76%   \u001b[1;36m|\u001b[m    100.00%      \u001b[1;36m|\u001b[m\n",
            "\u001b[1;36m|                                                |            |           |                 |\u001b[m\n",
            "\u001b[1;36m|\u001b[mTotal                                           \u001b[1;36m|\u001b[m    170     \u001b[1;36m|\u001b[m  100.00%  \u001b[1;36m|\u001b[m                 \u001b[1;36m|\u001b[m\n",
            "\u001b[1;36m|___________________________________________________________________________________________|\u001b[m\n",
            "\u001b[1;36m|                                                                                           |\u001b[m\n",
            "\u001b[1;36m|                            Fonte: Exercicio de sala                                       |\u001b[m\n",
            "\u001b[1;36m|___________________________________________________________________________________________\u001b[1;36m|\u001b[m\n"
          ]
        }
      ]
    },
    {
      "cell_type": "code",
      "metadata": {
        "id": "DovS_Gy4p-Ib"
      },
      "source": [
        ""
      ],
      "execution_count": null,
      "outputs": []
    }
  ]
}